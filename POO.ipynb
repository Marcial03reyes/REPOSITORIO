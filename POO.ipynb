{
 "cells": [
  {
   "cell_type": "markdown",
   "metadata": {},
   "source": [
    "# Programación Orientada a Objetos\n",
    "\n",
    "La POO es un paradigma de la programación de computadores; esto hace referencia al conjunto de teorías, estándares, modelos y métodos que permiten organizar el conocimiento, proporcionando un medio bien definido para visualizar el dominio del problema e implementar en un lenguaje de programación la solución a ese problema.\n",
    "\n",
    "La POO se basa en el modelo objeto, donde el elemento principal es le objeto, el cual es una unidad que contiene todas sus características y comportamientos en sí misma, lo cual lo hace como un todo independiente, pero que se interrelaciona con objetos de su misma clase o de otras clase, como sucede en el mundo real.\n",
    "\n",
    "\n",
    "## Conceptos Fundamentales de la POO\n",
    "\n",
    "La programación orientada a objetos es una forma de programar que trata de encontrar una solución a estos problemas. Introduce nuevos conceptos, que superan y amplían conceptos antiguos ya conocidos. Entre ellos destacan los siguientes:\n",
    "\n",
    "### Clase\n",
    "Definiciones de las propiedades y comportamiento de un tipo de objeto concreto. La instanciación es la lectura de estas definiciones y la creación de un objeto a partir de ellas.\n",
    "\n",
    "### Atributos\n",
    "Características que tiene la clase\n",
    "\n",
    "### Objeto\n",
    "Instancia de una clase. Entidad provista de un conjunto de propiedades o atributos (datos) y de comportamiento o funcionalidad (métodos), los mismos que consecuentemente reaccionan a eventos. Se corresponden con los objetos reales del mundo que nos rodea, o con objetos internos del sistema (del programa). Es una instancia a una clase.\n",
    "\n",
    "### Método\n",
    "Algoritmo asociado a un objeto (o a una clase de objetos), cuya ejecución se desencadena tras la recepción de un “mensaje”. Desde el punto de vista del comportamiento, es lo que el objeto puede hacer. Un método puede producir un cambio en las propiedades del objeto, o la generación de un “evento” con un nuevo mensaje para otro objeto del sistema.\n",
    "\n",
    "### Propiedad o atributo\n",
    "Contenedor de un tipo de datos asociados a un objeto (o a una clase de objetos), que hace los datos visibles desde fuera del objeto y esto se define como sus características predeterminadas, y cuyo valor puede ser alterado por la ejecución de algún método.\n",
    "\n",
    "### Estado interno\n",
    "Es una variable que se declara privada, que puede ser únicamente accedida y alterada por un método del objeto, y que se utiliza para indicar distintas situaciones posibles para el objeto (o clase de objetos). No es visible al programador que maneja una instancia de la clase.\n",
    "\n",
    "Extraído de: <https://unipython.com/programacion-orientada-objetos-python/>"
   ]
  },
  {
   "cell_type": "code",
   "execution_count": 5,
   "metadata": {},
   "outputs": [
    {
     "name": "stdout",
     "output_type": "stream",
     "text": [
      "['__add__', '__class__', '__contains__', '__delattr__', '__delitem__', '__dir__', '__doc__', '__eq__', '__format__', '__ge__', '__getattribute__', '__getitem__', '__gt__', '__hash__', '__iadd__', '__imul__', '__init__', '__init_subclass__', '__iter__', '__le__', '__len__', '__lt__', '__mul__', '__ne__', '__new__', '__reduce__', '__reduce_ex__', '__repr__', '__reversed__', '__rmul__', '__setattr__', '__setitem__', '__sizeof__', '__str__', '__subclasshook__', 'append', 'clear', 'copy', 'count', 'extend', 'index', 'insert', 'pop', 'remove', 'reverse', 'sort']\n",
      "['__add__', '__class__', '__contains__', '__delattr__', '__dir__', '__doc__', '__eq__', '__format__', '__ge__', '__getattribute__', '__getitem__', '__getnewargs__', '__gt__', '__hash__', '__init__', '__init_subclass__', '__iter__', '__le__', '__len__', '__lt__', '__mod__', '__mul__', '__ne__', '__new__', '__reduce__', '__reduce_ex__', '__repr__', '__rmod__', '__rmul__', '__setattr__', '__sizeof__', '__str__', '__subclasshook__', 'capitalize', 'casefold', 'center', 'count', 'encode', 'endswith', 'expandtabs', 'find', 'format', 'format_map', 'index', 'isalnum', 'isalpha', 'isascii', 'isdecimal', 'isdigit', 'isidentifier', 'islower', 'isnumeric', 'isprintable', 'isspace', 'istitle', 'isupper', 'join', 'ljust', 'lower', 'lstrip', 'maketrans', 'partition', 'replace', 'rfind', 'rindex', 'rjust', 'rpartition', 'rsplit', 'rstrip', 'split', 'splitlines', 'startswith', 'strip', 'swapcase', 'title', 'translate', 'upper', 'zfill']\n"
     ]
    }
   ],
   "source": [
    "A = list()\n",
    "B=\"hola\"\n",
    "print(dir(A))\n",
    "print(dir(B))"
   ]
  },
  {
   "cell_type": "code",
   "execution_count": 1,
   "metadata": {},
   "outputs": [
    {
     "name": "stdout",
     "output_type": "stream",
     "text": [
      "Hola\n",
      "Hola\n",
      "Bienvenidos()\n",
      "Hola\n",
      "Bienvenidos()\n"
     ]
    },
    {
     "data": {
      "text/plain": [
       "['__add__',\n",
       " '__class__',\n",
       " '__contains__',\n",
       " '__delattr__',\n",
       " '__delitem__',\n",
       " '__dir__',\n",
       " '__doc__',\n",
       " '__eq__',\n",
       " '__format__',\n",
       " '__ge__',\n",
       " '__getattribute__',\n",
       " '__getitem__',\n",
       " '__gt__',\n",
       " '__hash__',\n",
       " '__iadd__',\n",
       " '__imul__',\n",
       " '__init__',\n",
       " '__init_subclass__',\n",
       " '__iter__',\n",
       " '__le__',\n",
       " '__len__',\n",
       " '__lt__',\n",
       " '__mul__',\n",
       " '__ne__',\n",
       " '__new__',\n",
       " '__reduce__',\n",
       " '__reduce_ex__',\n",
       " '__repr__',\n",
       " '__reversed__',\n",
       " '__rmul__',\n",
       " '__setattr__',\n",
       " '__setitem__',\n",
       " '__sizeof__',\n",
       " '__str__',\n",
       " '__subclasshook__',\n",
       " 'append',\n",
       " 'clear',\n",
       " 'copy',\n",
       " 'count',\n",
       " 'extend',\n",
       " 'index',\n",
       " 'insert',\n",
       " 'pop',\n",
       " 'remove',\n",
       " 'reverse',\n",
       " 'sort']"
      ]
     },
     "execution_count": 1,
     "metadata": {},
     "output_type": "execute_result"
    }
   ],
   "source": [
    "A = list()\n",
    "A.append('Hola')\n",
    "A.append('Bienvenidos()')\n",
    "print (A[0])\n",
    "print (A.__getitem__(0))\n",
    "print (A.__getitem__(1))\n",
    "print (list.__getitem__(A,0))\n",
    "print (list.__getitem__(A,1))\n",
    "dir(A)"
   ]
  },
  {
   "cell_type": "code",
   "execution_count": 15,
   "metadata": {},
   "outputs": [
    {
     "name": "stdout",
     "output_type": "stream",
     "text": [
      "<class '__main__.PartyAnimal'>\n",
      "5\n",
      "6\n",
      "7\n",
      "['__class__', '__delattr__', '__dict__', '__dir__', '__doc__', '__eq__', '__format__', '__ge__', '__getattribute__', '__gt__', '__hash__', '__init__', '__init_subclass__', '__le__', '__lt__', '__module__', '__ne__', '__new__', '__reduce__', '__reduce_ex__', '__repr__', '__setattr__', '__sizeof__', '__str__', '__subclasshook__', '__weakref__', 'party', 'x']\n",
      "<class '__main__.PartyAnimal'>\n",
      "7\n",
      "8\n",
      "9\n",
      "9\n",
      "10\n",
      "11\n",
      "11\n",
      "<class 'int'>\n",
      "<class 'method'>\n",
      "<class '__main__.PartyAnimal'>\n"
     ]
    },
    {
     "data": {
      "text/plain": [
       "['__class__',\n",
       " '__delattr__',\n",
       " '__dict__',\n",
       " '__dir__',\n",
       " '__doc__',\n",
       " '__eq__',\n",
       " '__format__',\n",
       " '__ge__',\n",
       " '__getattribute__',\n",
       " '__gt__',\n",
       " '__hash__',\n",
       " '__init__',\n",
       " '__init_subclass__',\n",
       " '__le__',\n",
       " '__lt__',\n",
       " '__module__',\n",
       " '__ne__',\n",
       " '__new__',\n",
       " '__reduce__',\n",
       " '__reduce_ex__',\n",
       " '__repr__',\n",
       " '__setattr__',\n",
       " '__sizeof__',\n",
       " '__str__',\n",
       " '__subclasshook__',\n",
       " '__weakref__',\n",
       " 'party',\n",
       " 'x']"
      ]
     },
     "execution_count": 15,
     "metadata": {},
     "output_type": "execute_result"
    }
   ],
   "source": [
    "#Ejemplo de clase como tipos:\n",
    "class PartyAnimal:\n",
    "    x = 5   \n",
    "    def party(self) :\n",
    "        self.x = self.x + 1        \n",
    "        print(self.x)\n",
    "    \n",
    "an1 = PartyAnimal() #instanciando (creando) objteto de tipo PartyAnimal\n",
    "print(type(an1))\n",
    "print(an1.x)\n",
    "an1.x=6\n",
    "print(an1.x)\n",
    "an1.party()\n",
    "\n",
    "\n",
    "print(dir(an1))\n",
    "print(type(an1))\n",
    "print(an1.x)\n",
    "PartyAnimal.party(an1)\n",
    "an1.party()\n",
    "print(an1.x)\n",
    "an1.party()\n",
    "PartyAnimal.party(an1)\n",
    "print(an1.x)\n",
    "print(type(an1.x))\n",
    "print(type(an1.party))\n",
    "print(type(an1))\n",
    "dir(an1)"
   ]
  },
  {
   "cell_type": "code",
   "execution_count": 20,
   "metadata": {},
   "outputs": [
    {
     "name": "stdout",
     "output_type": "stream",
     "text": [
      "Objeto construído\n",
      "<__main__.PartyAnimal object at 0x0000019F0F9D3A30>\n",
      "Desde aquí:  1\n",
      "Desde aquí:  2\n",
      "Objeto destruído 2\n"
     ]
    },
    {
     "ename": "NameError",
     "evalue": "name 'an' is not defined",
     "output_type": "error",
     "traceback": [
      "\u001b[1;31m---------------------------------------------------------------------------\u001b[0m",
      "\u001b[1;31mNameError\u001b[0m                                 Traceback (most recent call last)",
      "\u001b[1;32m<ipython-input-20-389afeb1274b>\u001b[0m in \u001b[0;36m<module>\u001b[1;34m\u001b[0m\n\u001b[0;32m     21\u001b[0m \u001b[1;31m#an = 42\u001b[0m\u001b[1;33m\u001b[0m\u001b[1;33m\u001b[0m\u001b[1;33m\u001b[0m\u001b[0m\n\u001b[0;32m     22\u001b[0m \u001b[1;32mdel\u001b[0m\u001b[1;33m(\u001b[0m\u001b[0man\u001b[0m\u001b[1;33m)\u001b[0m\u001b[1;33m\u001b[0m\u001b[1;33m\u001b[0m\u001b[0m\n\u001b[1;32m---> 23\u001b[1;33m \u001b[0mprint\u001b[0m\u001b[1;33m(\u001b[0m\u001b[0man\u001b[0m\u001b[1;33m)\u001b[0m\u001b[1;33m\u001b[0m\u001b[1;33m\u001b[0m\u001b[0m\n\u001b[0m",
      "\u001b[1;31mNameError\u001b[0m: name 'an' is not defined"
     ]
    }
   ],
   "source": [
    "class PartyAnimal:\n",
    "   x = 0\n",
    "\n",
    "   def __init__(self):\n",
    "     print('Objeto construído')\n",
    "\n",
    "   def party(self) :\n",
    "     self.x = self.x + 1\n",
    "     print('Desde aquí: ',self.x)\n",
    "\n",
    "   def __del__(self):\n",
    "    print('Objeto destruído', self.x)\n",
    "        \n",
    "   #def __str__(self):\n",
    "    #    return \"Retorna una cadena\"\n",
    "\n",
    "an = PartyAnimal()\n",
    "print(an)\n",
    "an.party()\n",
    "an.party()\n",
    "#an = 42\n",
    "del(an)\n",
    "print(an)"
   ]
  },
  {
   "cell_type": "code",
   "execution_count": 6,
   "metadata": {},
   "outputs": [
    {
     "name": "stdout",
     "output_type": "stream",
     "text": [
      "Sally construído\n",
      "Sally\n",
      "10\n",
      "Sally contador 11\n",
      "['__class__', '__delattr__', '__dict__', '__dir__', '__doc__', '__eq__', '__format__', '__ge__', '__getattribute__', '__gt__', '__hash__', '__init__', '__init_subclass__', '__le__', '__lt__', '__module__', '__ne__', '__new__', '__reduce__', '__reduce_ex__', '__repr__', '__setattr__', '__sizeof__', '__str__', '__subclasshook__', '__weakref__', 'name', 'party', 'x']\n"
     ]
    },
    {
     "data": {
      "text/plain": [
       "'\\nh = PartyAnimal()\\nprint(h.name)\\nprint(h.x)\\nh.party()\\nh.party()\\nprint(h.x)\\n'"
      ]
     },
     "execution_count": 6,
     "metadata": {},
     "output_type": "execute_result"
    }
   ],
   "source": [
    "## Ejemplo de múltiples instancias:\n",
    "class PartyAnimal:\n",
    "   x = 0\n",
    "   name = ''\n",
    "   def __init__(self, nombre=\"Tobby\",x=10):  # método de instanciación (crea objeto)\n",
    "     self.name = nombre\n",
    "     self.x = x\n",
    "     print(self.name,'construído')\n",
    "\n",
    "   def party(self) :\n",
    "     self.x = self.x + 1\n",
    "     print(self.name,'contador',self.x)\n",
    "\n",
    "s = PartyAnimal('Sally')\n",
    "print(s.name)\n",
    "print(s.x)\n",
    "s.party()\n",
    "print(dir(s))\n",
    "'''\n",
    "h = PartyAnimal()\n",
    "print(h.name)\n",
    "print(h.x)\n",
    "h.party()\n",
    "h.party()\n",
    "print(h.x)\n",
    "'''\n"
   ]
  },
  {
   "cell_type": "code",
   "execution_count": 49,
   "metadata": {},
   "outputs": [
    {
     "name": "stdout",
     "output_type": "stream",
     "text": [
      "{'Nombre': 'Carlos', 'Apellidos': 'Sánchez Ortega', 'dni': '95486312'} -> BORRADO\n"
     ]
    },
    {
     "data": {
      "text/plain": [
       "[{'Nombre': 'Juan', 'Apellidos': 'Sanchez González', 'dni': '18196012'},\n",
       " {'Nombre': 'Angela', 'Apellidos': 'Pérez Ortega', 'dni': '25677717'}]"
      ]
     },
     "execution_count": 49,
     "metadata": {},
     "output_type": "execute_result"
    }
   ],
   "source": [
    "## Ejemplo programación estructurada\n",
    "\n",
    "clientes = [{'Nombre':'Carlos','Apellidos':'Sánchez Ortega','dni':'95486312'},{'Nombre':'Juan','Apellidos':'Sanchez González','dni':'18196012'},\n",
    "           {'Nombre':'Angela','Apellidos':'Pérez Ortega','dni':'25677717'}]\n",
    "\n",
    "#función mostrar_Cliente:\n",
    "def mostrar_cliente(clientes, dni):\n",
    "    for i in clientes:\n",
    "        if (dni == i['dni']):\n",
    "            print('{} {}'.format(i['Nombre'],i['Apellidos']))                   \n",
    "            return \n",
    "    print('Cliente no encontrado')\n",
    "       \n",
    "\n",
    "#función borrar_Cliente:\n",
    "def borrar_cliente(clientes, dni):\n",
    "    for i,c in enumerate(clientes):\n",
    "        if (dni == c['dni']):\n",
    "            del(clientes[i])\n",
    "            print(str(c),'-> BORRADO')\n",
    "            return\n",
    "    print('Cliente no encontrado')\n",
    "'''\n",
    "#mostrar_cliente(clientes, '95476312')\n",
    "d=mostrar_cliente(clientes, '95486312')\n",
    "print(d)\n",
    "'''\n",
    "borrar_cliente(clientes, '95486312')\n",
    "clientes"
   ]
  },
  {
   "cell_type": "code",
   "execution_count": 8,
   "metadata": {
    "scrolled": true
   },
   "outputs": [
    {
     "name": "stdout",
     "output_type": "stream",
     "text": [
      "['__class__', '__delattr__', '__dict__', '__dir__', '__doc__', '__eq__', '__format__', '__ge__', '__getattribute__', '__gt__', '__hash__', '__init__', '__init_subclass__', '__le__', '__lt__', '__module__', '__ne__', '__new__', '__reduce__', '__reduce_ex__', '__repr__', '__setattr__', '__sizeof__', '__str__', '__subclasshook__', '__weakref__', 'borrar_cliente', 'clientes', 'mostrar_cliente']\n",
      "<class '__main__.Empresa'>\n",
      "Cliente no encontrado\n",
      "Juan Sanchez González\n",
      "Carlos Sánchez Ortega\n",
      "Angela Pérez Ortega\n",
      "Carlos Sánchez Ortega -> BORRADO\n",
      "Cliente no encontrado\n"
     ]
    },
    {
     "data": {
      "text/plain": [
       "'[<__main__.Cliente object at 0x000001CAF213EE50>, <__main__.Cliente object at 0x000001CAF213ED90>]'"
      ]
     },
     "execution_count": 8,
     "metadata": {},
     "output_type": "execute_result"
    }
   ],
   "source": [
    "## Ejemplo programación Orientada a Objetos (POO)\n",
    "class Cliente:\n",
    "    def __init__ (self, dni, nombre, apellidos): #método constructor\n",
    "        self.dni = dni\n",
    "        self.nombre = nombre\n",
    "        self.apellidos = apellidos\n",
    "\n",
    "    def __str__(self):\n",
    "        return('{} {}'.format(self.nombre,self.apellidos))\n",
    "\n",
    "###creando objetos cliente:    \n",
    "cliente1 = Cliente(nombre='Carlos',apellidos='Sánchez Ortega',dni='95486312')\n",
    "cliente2 = Cliente(nombre='Juan',apellidos='Sanchez González',dni='18196012')\n",
    "cliente3 = Cliente(nombre='Angela',apellidos='Pérez Ortega',dni='25677717')\n",
    "'''\n",
    "print(type(cliente1))\n",
    "print(cliente1)\n",
    "print(str(cliente1))\n",
    "print(dir(cliente1))\n",
    "print(cliente1.dni)\n",
    "'''\n",
    "class Empresa:\n",
    "    def __init__(self, clientes=[]): #método constructor\n",
    "        self.clientes = clientes\n",
    "\n",
    "    def mostrar_cliente(self, dni=None):\n",
    "        for c in self.clientes:\n",
    "            if c.dni == dni:\n",
    "                print(c)\n",
    "                return\n",
    "        print(\"Cliente no encontrado\")\n",
    "        \n",
    "\n",
    "    def borrar_cliente(self, dni=None):\n",
    "        for i,c in enumerate(self.clientes):          \n",
    "            if c.dni == dni:              \n",
    "                del(self.clientes[i])\n",
    "                print(str(c),\"-> BORRADO\")\n",
    "                return\n",
    "        print(\"Cliente no encontrado\")\n",
    "\n",
    "#creando objeto empresa\n",
    "empr1 = Empresa(clientes=[cliente1,cliente2,cliente3]) #Se instancia o se crea un objeto de tipo Empresa\n",
    "print(dir(empr1))\n",
    "print(type(empr1))\n",
    "empr1.mostrar_cliente('95487312')\n",
    "empr1.mostrar_cliente(dni='18196012')\n",
    "empr1.mostrar_cliente(dni='95486312')\n",
    "empr1.mostrar_cliente(dni='25677717')\n",
    "empr1.borrar_cliente('95486312')\n",
    "empr1.borrar_cliente('95486999')\n",
    "\n",
    "str(empr1.clientes)\n"
   ]
  },
  {
   "cell_type": "code",
   "execution_count": 10,
   "metadata": {},
   "outputs": [
    {
     "data": {
      "text/plain": [
       "<__main__.Empresa at 0x1caf213ec70>"
      ]
     },
     "execution_count": 10,
     "metadata": {},
     "output_type": "execute_result"
    }
   ],
   "source": [
    "empr1"
   ]
  },
  {
   "cell_type": "markdown",
   "metadata": {},
   "source": [
    "Entre las características de la POO tenemos: Herencia, Polimorfismo, Abstracción y Encapsulamiento\n",
    "\n",
    "## Herencia\n",
    "La Herencia explica que puede crearse un objeto a partir de otro objeto ya existente. El nuevo objeto hereda todas las cualidades del objeto del que deriva y además puede añadir nuevas funcionalidades o modificar las ya existentes.\n",
    "\n",
    "**Tipos de herencia**\n",
    "Herencia única : la herencia de un solo nivel permite que una clase derivada herede características de una clase padre única.\n",
    "\n",
    "Herencia multinivel: la herencia multinivel permite que una clase derivada herede propiedades de una clase padre inmediata que a su vez hereda propiedades de su clase padre.\n",
    "\n",
    "Herencia jerárquica: la herencia a nivel jerárquico permite que más de una clase derivada herede propiedades de una clase padre.\n",
    "\n",
    "Herencia múltiple: la herencia de múltiples niveles permite que una clase derivada herede propiedades de más de una clase base."
   ]
  },
  {
   "cell_type": "code",
   "execution_count": 10,
   "metadata": {},
   "outputs": [
    {
     "name": "stdout",
     "output_type": "stream",
     "text": [
      "Sally construído\n",
      "<class '__main__.PartyAnimal'>\n",
      "Tobby construído\n",
      "<class '__main__.CricketFan'>\n",
      "Tobby\n",
      "10\n"
     ]
    }
   ],
   "source": [
    "class PartyAnimal:\n",
    "   x = 0\n",
    "   name = ''\n",
    "   def __init__(self, nombre=\"Tobby\",x=10):  # método de instanciación (crea objeto)\n",
    "     self.name = nombre\n",
    "     self.x = x\n",
    "     print(self.name,'construído')\n",
    "\n",
    "   def party(self) :\n",
    "     self.x = self.x + 1\n",
    "     print(self.name,'contador',self.x)\n",
    "     \n",
    "class CricketFan(PartyAnimal): #CricketFan es una subclase (hereda) derivada de PartyAnimal\n",
    "   p = 0\n",
    "   def six(self):\n",
    "      self.points = self.p + 6\n",
    "      self.party()\n",
    "      print(self.name,\"p\",self.points)\n",
    "\n",
    "s = PartyAnimal(\"Sally\")\n",
    "#s.party()\n",
    "#print(s.name)\n",
    "print(type(s))\n",
    "\n",
    "j = CricketFan()\n",
    "#j.party()\n",
    "print(type(j))\n",
    "print(j.name)\n",
    "print(j.x)\n",
    "\n",
    "#j.six()\n",
    "#print(dir(s))\n",
    "#print(dir(j))"
   ]
  },
  {
   "cell_type": "code",
   "execution_count": 16,
   "metadata": {},
   "outputs": [
    {
     "name": "stdout",
     "output_type": "stream",
     "text": [
      "Rexx tiene 5 años. Es un Labrador y de tamaño grande.\n"
     ]
    },
    {
     "data": {
      "text/plain": [
       "'Bobby tiene 10 años.'"
      ]
     },
     "execution_count": 16,
     "metadata": {},
     "output_type": "execute_result"
    }
   ],
   "source": [
    "# Clase base\n",
    "class Animal:\n",
    "    def __init__(self, nombre, edad):\n",
    "        self.nombre = nombre\n",
    "        self.edad = edad\n",
    "\n",
    "    def descripcion(self):\n",
    "        return f\"{self.nombre} tiene {self.edad} años.\" #print(self.nombre + 'tiene' + str((self,edad)) + 'años)\n",
    "\n",
    "# Clase derivada\n",
    "class Perro(Animal):\n",
    "    def __init__(self, nombre, edad, raza, tamaño):\n",
    "        super().__init__(nombre, edad)\n",
    "        self.raza = raza\n",
    "        self.tamaño = tamaño\n",
    "\n",
    "    def descripcion_completa(self):\n",
    "        # Acceder a los atributos de la clase base usando super()\n",
    "        descripcion_base = super().descripcion()\n",
    "        return f\"{descripcion_base} Es un {self.raza} y de tamaño {self.tamaño}.\"\n",
    "\n",
    "# Crear una instancia de Perro\n",
    "mi_perro = Perro(\"Rexx\", 5, \"Labrador\",\"grande\")\n",
    "print(mi_perro.descripcion_completa())  # Salida: Rex tiene 5 años. Es un Labrador.\n",
    "\n",
    "\n",
    "mi_perro.descripcion()\n",
    "mi_perro.descripcion_completa()\n",
    "\n",
    "mi_mascota = Animal('Bobby', 10)\n",
    "mi_mascota.descripcion()"
   ]
  },
  {
   "cell_type": "code",
   "execution_count": 1,
   "metadata": {},
   "outputs": [
    {
     "name": "stdout",
     "output_type": "stream",
     "text": [
      "['__class__', '__del__', '__delattr__', '__dict__', '__dir__', '__doc__', '__eq__', '__format__', '__ge__', '__getattribute__', '__getstate__', '__gt__', '__hash__', '__init__', '__init_subclass__', '__le__', '__lt__', '__module__', '__ne__', '__new__', '__reduce__', '__reduce_ex__', '__repr__', '__setattr__', '__sizeof__', '__str__', '__subclasshook__', '__weakref__', 'colgar', 'fotografiar', 'reproducirmp3', 'reproducirvideo', 'telefonear']\n",
      "reproduciendo mp3\n",
      "llamando\n",
      "fotografiando\n",
      "Móvil apagado\n",
      "True\n",
      "True\n",
      "False\n",
      "True\n",
      "True\n"
     ]
    }
   ],
   "source": [
    "## Herencia múltipĺe\n",
    "class Telefono:\n",
    "    \"Clase teléfono\"\n",
    "    def __init__(self):\n",
    "        pass\n",
    "    def telefonear(self):\n",
    "        print('llamando')\n",
    "    def colgar(self):\n",
    "        print('colgando')        \n",
    "\n",
    "class Camara:\n",
    "    \"Clase camara fotográfica\"\n",
    "    def __init__(self):\n",
    "        pass\n",
    "    def fotografiar(self):\n",
    "        print('fotografiando')        \n",
    "\n",
    "class Reproductor:\n",
    "    \"Clase Reproductor Mp3\"\n",
    "    def __init__(self):\n",
    "        pass\n",
    "    def reproducirmp3(self):\n",
    "        print('reproduciendo mp3')                  \n",
    "    def reproducirvideo(self):\n",
    "        print('reproduciendo video')                  \n",
    "\n",
    "class Movil(Telefono, Camara, Reproductor):\n",
    "    def __del__(self):\n",
    "        print('Móvil apagado')\n",
    "\n",
    "movil1 = Movil()\n",
    "print(dir(movil1))\n",
    "#print(type(movil1))\n",
    "movil1.reproducirmp3()\n",
    "movil1.telefonear()\n",
    "movil1.fotografiar()\n",
    "del(movil1)\n",
    "#print(movil1)\n",
    "\n",
    "print(issubclass(Movil, Telefono))  \n",
    "print(issubclass(Movil, Reproductor)) \n",
    "print(issubclass(Reproductor,Movil)) \n",
    "movil2 = Movil()\n",
    "print(isinstance(movil2, Movil))  \n",
    "print(isinstance(movil2, Camara)) "
   ]
  },
  {
   "cell_type": "markdown",
   "metadata": {},
   "source": [
    "## Polimorfismo\n",
    "\n",
    "Una operación puede presentar diferentes comportamientos en diferentes instancias. El comportamiento depende de los tipos de datos utilizados en la operación. El polimorfismo es ampliamente utilizado en la aplicación de la herencia.\n",
    "El polimorfismo se puede entender como la capacidad para tomar más de una forma."
   ]
  },
  {
   "cell_type": "code",
   "execution_count": 4,
   "metadata": {},
   "outputs": [
    {
     "name": "stdout",
     "output_type": "stream",
     "text": [
      "mensaje desde la clase Empleado\n",
      "mensaje desde la clase Persona\n"
     ]
    }
   ],
   "source": [
    "##Sobrecarga de métodos\n",
    "class Persona():\n",
    "     def __init__(self):\n",
    "         self.dni = 13765890\n",
    "        \n",
    "     def mensaje(self):\n",
    "         print(\"mensaje desde la clase Persona\")\n",
    "\n",
    "class Empleado(Persona):\n",
    "    especialista=0\n",
    "    def __init__(self):\n",
    "         self.especialista = 1\n",
    "        \n",
    "    def mensaje(self):\n",
    "        print(\"mensaje desde la clase Empleado\")\n",
    "\n",
    "obrero1 = Empleado()\n",
    "persona1= Persona()\n",
    "obrero1.mensaje()\n",
    "persona1.mensaje()"
   ]
  },
  {
   "cell_type": "code",
   "execution_count": 28,
   "metadata": {},
   "outputs": [
    {
     "name": "stdout",
     "output_type": "stream",
     "text": [
      "(5, 4)\n",
      "(5, 4)\n",
      "4,6\n",
      "4,6\n"
     ]
    }
   ],
   "source": [
    "##Sobrecarga de operadores\n",
    "class Punto:\n",
    "    def __init__(self,x = 0,y = 0):\n",
    "         self.x = x\n",
    "         self.y = y\n",
    "    def __add__(self,other):\n",
    "         x = self.x + other.x\n",
    "         y = self.y + other.y\n",
    "         return x, y\n",
    "    def __str__(self):\n",
    "        return (str(self.x)+ ',' +str(self.y))\n",
    "\n",
    "punto1 = Punto(4,6)\n",
    "punto2 = Punto(1,-2)\n",
    "print(punto1.__add__(punto2))\n",
    "print (punto1 + punto2)\n",
    "print(punto1)\n",
    "print(punto1.__str__())"
   ]
  },
  {
   "cell_type": "markdown",
   "metadata": {},
   "source": [
    "## Abstracción\n",
    "\n",
    "Un concepto relacionado con la abstracción, serían las clases abstractas o más bien los métodos abstractos. Se define como clase abstracta la que contiene métodos abstractos, y se define como método abstracto a un método que ha sido declarado pero no implementado. Es decir, que no tiene código.\n",
    "Para crear una clase abstracta en Python, se puede  usar el módulo \"abc\", que significa Clases Base Abstractas. Una clase abstracta es una clase que no se puede instanciar y que normalmente incluye uno o más métodos abstractos que deben ser implementados por subclases."
   ]
  },
  {
   "cell_type": "code",
   "execution_count": null,
   "metadata": {},
   "outputs": [],
   "source": [
    "from abc import ABC, abstractmethod\n",
    "\n",
    "# Definir una clase abstracta\n",
    "class Persona(ABC):\n",
    "    def __init__(self, dni):\n",
    "        self.dni = dni\n",
    "\n",
    "    @abstractmethod\n",
    "    def mensaje(self):\n",
    "        pass\n",
    "\n",
    "# Clase derivada que implementa el método abstracto\n",
    "class Empleado(Persona):\n",
    "    def __init__(self, dni, especialista):\n",
    "        super().__init__(dni)\n",
    "        self.especialista = especialista\n",
    "\n",
    "    def mensaje(self):\n",
    "        print(\"mensaje desde la clase Empleado\")\n",
    "\n",
    "# Intentar crear una instancia de Persona dará un error\n",
    "# persona1 = Persona(13765890)  # Esto dará un error\n",
    "\n",
    "# Crear una instancia de Empleado\n",
    "obrero1 = Empleado(13765890, 1)\n",
    "obrero1.mensaje()  # Salida: mensaje desde la clase Empleado"
   ]
  },
  {
   "cell_type": "markdown",
   "metadata": {},
   "source": [
    "# Encapsulamiento\n",
    "\n",
    "Describe la idea de encapsular los datos y los métodos que trabajan con los datos dentro de una unidad. Esto impone restricciones al acceso directo a las variables y métodos y puede evitar la modificación accidental de los datos. Para evitar cambios accidentales, la variable de un objeto solo puede ser modificada por el método de un objeto. Ese tipo de variables se conocen como variables privadas."
   ]
  },
  {
   "cell_type": "code",
   "execution_count": 32,
   "metadata": {},
   "outputs": [
    {
     "name": "stdout",
     "output_type": "stream",
     "text": [
      "1600\n",
      "2100\n",
      "1900\n"
     ]
    }
   ],
   "source": [
    "class CuentaBancaria:\n",
    "    def __init__(self, numero_cuenta, saldo_inicial):\n",
    "        self.__numero_cuenta = numero_cuenta  # Atributo privado\n",
    "        self.__saldo = saldo_inicial  # Atributo privado\n",
    "\n",
    "    # Método público para obtener el saldo\n",
    "    def obtener_saldo(self):\n",
    "        return self.__saldo\n",
    "\n",
    "    def establecer_saldo(self, saldo):\n",
    "        self.__saldo = saldo\n",
    "        return self\n",
    "\n",
    "    # Método público para depositar dinero\n",
    "    def depositar(self, cantidad):\n",
    "        if cantidad > 0:\n",
    "            self.__saldo += cantidad\n",
    "        else:\n",
    "            print(\"La cantidad a depositar debe ser positiva\")\n",
    "\n",
    "    # Método público para retirar dinero\n",
    "    def retirar(self, cantidad):\n",
    "        if 0 < cantidad <= self.__saldo:\n",
    "            self.__saldo -= cantidad\n",
    "        else:\n",
    "            print(\"Fondos insuficientes o cantidad inválida\")\n",
    "\n",
    "# Crear una instancia de CuentaBancaria\n",
    "mi_cuenta = CuentaBancaria(\"123456789\", 1000)\n",
    "mi_cuenta.obtener_saldo()\n",
    "mi_cuenta.establecer_saldo(1600) #Por que se necesita poner un valor??\n",
    "mi_cuenta.obtener_saldo()\n",
    "\n",
    "# Acceder al saldo usando el método público\n",
    "print(mi_cuenta.obtener_saldo())  \n",
    "\n",
    "# Depositar dinero usando el método público\n",
    "mi_cuenta.depositar(500)\n",
    "print(mi_cuenta.obtener_saldo())  \n",
    "\n",
    "# Retirar dinero usando el método público\n",
    "mi_cuenta.retirar(200)\n",
    "print(mi_cuenta.obtener_saldo()) "
   ]
  },
  {
   "cell_type": "code",
   "execution_count": 4,
   "metadata": {},
   "outputs": [
    {
     "name": "stdout",
     "output_type": "stream",
     "text": [
      "Hola, me llamo Alice y tengo 30 años.\n",
      "30\n",
      "31\n",
      "Número total de personas: 2\n",
      "True\n",
      "False\n"
     ]
    }
   ],
   "source": [
    "class Persona:\n",
    "    # Atributo de clase\n",
    "    numero_de_personas = 0\n",
    "\n",
    "    # Método de inicialización o constructor\n",
    "    def __init__(self, nombre, edad):\n",
    "        self._nombre = nombre  # atributo privado\n",
    "        self._edad = edad  # atributo privado\n",
    "        Persona.numero_de_personas += 1  # incrementa el contador de personas\n",
    "\n",
    "    # Método de instancia\n",
    "    def saludar(self):\n",
    "        return f\"Hola, me llamo {self._nombre} y tengo {self._edad} años.\"\n",
    "\n",
    "    # Getter para obtener la edad\n",
    "    def get_edad(self):\n",
    "        return self._edad\n",
    "\n",
    "    # Setter para modificar la edad con validación\n",
    "    def set_edad(self, nueva_edad):\n",
    "        if nueva_edad > 0:\n",
    "            self._edad = nueva_edad\n",
    "        else:\n",
    "            print(\"La edad debe ser un número positivo.\")\n",
    "\n",
    "    # Método de clase\n",
    "    @classmethod\n",
    "    def obtener_numero_de_personas(cls):\n",
    "        return f\"Número total de personas: {cls.numero_de_personas}\"\n",
    "\n",
    "    # Método estático\n",
    "    @staticmethod\n",
    "    def es_mayor_de_edad(edad):\n",
    "        return edad >= 18\n",
    "        \n",
    "# Crear instancias de Persona\n",
    "persona1 = Persona(\"Alice\", 30)\n",
    "persona2 = Persona(\"Bob\", 17)\n",
    "\n",
    "# Llamar al método de instancia\n",
    "print(persona1.saludar())  # \"Hola, me llamo Alice y tengo 30 años.\"\n",
    "\n",
    "# Usar el getter y setter\n",
    "print(persona1.get_edad())  # 30\n",
    "persona1.set_edad(31)\n",
    "print(persona1.get_edad())  # 31\n",
    "\n",
    "# Llamar al método de clase\n",
    "print(Persona.obtener_numero_de_personas())  # \"Número total de personas: 2\"\n",
    "\n",
    "# Llamar al método estático\n",
    "print(Persona.es_mayor_de_edad(20))  # True\n",
    "print(Persona.es_mayor_de_edad(15))  # False"
   ]
  },
  {
   "cell_type": "markdown",
   "metadata": {},
   "source": [
    "# References\n",
    "http://www.marinamele.com/2014/04/modifying-add-method-of-python-class.html\n",
    "https://www.geeksforgeeks.org/python-oops-concepts/\n"
   ]
  }
 ],
 "metadata": {
  "kernelspec": {
   "display_name": "Python 3 (ipykernel)",
   "language": "python",
   "name": "python3"
  },
  "language_info": {
   "codemirror_mode": {
    "name": "ipython",
    "version": 3
   },
   "file_extension": ".py",
   "mimetype": "text/x-python",
   "name": "python",
   "nbconvert_exporter": "python",
   "pygments_lexer": "ipython3",
   "version": "3.12.4"
  }
 },
 "nbformat": 4,
 "nbformat_minor": 4
}
